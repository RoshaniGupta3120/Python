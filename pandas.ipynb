{
 "cells": [
  {
   "cell_type": "code",
   "execution_count": 4,
   "id": "e421ac9f-d4c3-4178-87fc-6b9cea1ae229",
   "metadata": {},
   "outputs": [],
   "source": [
    "#pip install pandas"
   ]
  },
  {
   "cell_type": "code",
   "execution_count": 6,
   "id": "96b18e96-7c07-4f0f-b2c7-93774570029b",
   "metadata": {},
   "outputs": [],
   "source": [
    "import numpy as np\n",
    "import pandas as pd\n",
    "\n",
    "import warnings\n",
    "warnings.filterwarnings(\"ignore\")"
   ]
  },
  {
   "cell_type": "markdown",
   "id": "5792346c-ec4b-4a03-ae8f-54176cf8f676",
   "metadata": {},
   "source": [
    "### pandas\n",
    "pandas is powerfull python library used for Data manupulation, analysis and exploration. It provides data structure and functions to wrok with structured data efficiently.\n",
    "\n",
    "The data structures of pandas are:\n",
    "1. Series ------ one dimensional------ Series is one dimensional labeled array similar to a list\n",
    "2. DataFrame-----Two dimensional----------------DaraFrame are 2 dimensional labeled table simiral to and excel sheet or SQL table\n",
    "\n",
    "Key features of pandas are:\n",
    "1. handling missing data\n",
    "2. filtering, grouping and ..\n",
    "3. reading and writing data from various file formats like csv, excel, json, html, etc.\n",
    "4. easy indexing and slicing\n",
    "5. Data cleaning and Transformation"
   ]
  },
  {
   "cell_type": "code",
   "execution_count": 10,
   "id": "a1ff22f7-f736-4580-ba29-0dcaee200cc6",
   "metadata": {},
   "outputs": [
    {
     "name": "stdout",
     "output_type": "stream",
     "text": [
      "<class 'list'>\n",
      "<class 'pandas.core.series.Series'>\n",
      "0    Akansha\n",
      "1      Sahil\n",
      "2    Shubham\n",
      "3    Roshani\n",
      "4      Satya\n",
      "dtype: object\n",
      "4      Satya\n",
      "3    Roshani\n",
      "2    Shubham\n",
      "1      Sahil\n",
      "0    Akansha\n",
      "dtype: object\n"
     ]
    }
   ],
   "source": [
    "l=[\"Akansha\",\"Sahil\",\"Shubham\",\"Roshani\",\"Satya\"]\n",
    "print(type(l))\n",
    "s=pd.Series(l)  # Series, cause we had a 1 dimensional data\n",
    "print(type(s))\n",
    "print(s)\n",
    "print(s[::-1])"
   ]
  },
  {
   "cell_type": "code",
   "execution_count": 16,
   "id": "d76e73fb-4b70-41ef-afad-14c4eb5d788d",
   "metadata": {},
   "outputs": [
    {
     "name": "stdout",
     "output_type": "stream",
     "text": [
      "a    Akansha\n",
      "b      Sahil\n",
      "c    Shubham\n",
      "d    Roshani\n",
      "e      Satya\n",
      "dtype: object\n",
      "Satya\n",
      "Sahil\n"
     ]
    }
   ],
   "source": [
    "s=pd.Series(l, index=[\"a\",\"b\",\"c\",\"d\",\"e\"]) #Giving are own indexes\n",
    "print(s)\n",
    "print(s[\"e\"])\n",
    "print(s[1])"
   ]
  },
  {
   "cell_type": "code",
   "execution_count": 21,
   "id": "07498f61-5243-4875-b83d-94f8d48201aa",
   "metadata": {},
   "outputs": [
    {
     "name": "stdout",
     "output_type": "stream",
     "text": [
      "a     Harry\n",
      "b    Pottar\n",
      "c       Tom\n",
      "d     jerry\n",
      "dtype: object\n",
      "jerry\n"
     ]
    }
   ],
   "source": [
    "d={\"a\":\"Harry\", \"b\":\"Pottar\", \"c\":\"Tom\", \"d\":\"jerry\"} # in dictionary it will take the key as a index\n",
    "s=pd.Series(d)\n",
    "print(s)\n",
    "print(s[3])"
   ]
  },
  {
   "cell_type": "code",
   "execution_count": 23,
   "id": "10b58f5d-babf-48f0-b52c-be0ac2ae7c92",
   "metadata": {},
   "outputs": [
    {
     "name": "stdout",
     "output_type": "stream",
     "text": [
      "        0   1  2\n",
      "0   Harry  92  A\n",
      "1  Pottar  84  B\n",
      "2     Tom  76  C\n",
      "3   Jerry  95  A\n"
     ]
    }
   ],
   "source": [
    "l=[[\"Harry\",92,\"A\"],[\"Pottar\",84,\"B\"],[\"Tom\",76,\"C\"],[\"Jerry\",95,\"A\"]]\n",
    "df=pd.DataFrame(l)           # creates as 2D DataFrame-----------------------------\n",
    "print(df)"
   ]
  },
  {
   "cell_type": "code",
   "execution_count": 25,
   "id": "f8943ee4-930b-4630-b72c-0c000f464751",
   "metadata": {},
   "outputs": [
    {
     "name": "stdout",
     "output_type": "stream",
     "text": [
      "     Name  Marks Grade\n",
      "0   Harry     92     A\n",
      "1  Pottar     84     B\n",
      "2     Tom     76     C\n",
      "3   Jerry     95     A\n",
      "<class 'pandas.core.frame.DataFrame'>\n",
      "RangeIndex: 4 entries, 0 to 3\n",
      "Data columns (total 3 columns):\n",
      " #   Column  Non-Null Count  Dtype \n",
      "---  ------  --------------  ----- \n",
      " 0   Name    4 non-null      object\n",
      " 1   Marks   4 non-null      int64 \n",
      " 2   Grade   4 non-null      object\n",
      "dtypes: int64(1), object(2)\n",
      "memory usage: 228.0+ bytes\n"
     ]
    }
   ],
   "source": [
    "df=pd.DataFrame(l, columns=[\"Name\",\"Marks\",\"Grade\"]) #can't change the row index but can rename the columns\n",
    "print(df)\n",
    "df.info()"
   ]
  },
  {
   "cell_type": "markdown",
   "id": "501a3a18-9757-4498-99b0-7350de80eb14",
   "metadata": {},
   "source": [
    "### Object datatype in pandas\n",
    "pandas use object datatype as a general purpose container for string. The object datatype can store any python object for example : string, list, tuple\n",
    "\n",
    "This versitality allows pandas to handle mixed datatypes easily\n",
    "\n",
    "earilar version of pandas relies on numpy for array stucture and numpy doesn't have a dedicated string type instead it uses object arrays for strings"
   ]
  },
  {
   "cell_type": "code",
   "execution_count": 30,
   "id": "c0d1c754-b30c-441d-95e3-dadf1afde25a",
   "metadata": {},
   "outputs": [
    {
     "name": "stdout",
     "output_type": "stream",
     "text": [
      "           0\n",
      "0      Harry\n",
      "1         42\n",
      "2  [1, 2, 3]\n",
      "<class 'pandas.core.frame.DataFrame'>\n",
      "RangeIndex: 3 entries, 0 to 2\n",
      "Data columns (total 1 columns):\n",
      " #   Column  Non-Null Count  Dtype \n",
      "---  ------  --------------  ----- \n",
      " 0   0       3 non-null      object\n",
      "dtypes: object(1)\n",
      "memory usage: 156.0+ bytes\n"
     ]
    }
   ],
   "source": [
    "df=pd.DataFrame([\"Harry\", 42, [1,2,3]])  #many datatype in a same column willbe considered as object datatype\n",
    "print(df)\n",
    "df.info()  #info() can only be used for DataFrame and not for Series"
   ]
  },
  {
   "cell_type": "code",
   "execution_count": 32,
   "id": "308bbcc2-7590-4667-ad18-a2269b486fdd",
   "metadata": {},
   "outputs": [
    {
     "name": "stdout",
     "output_type": "stream",
     "text": [
      "           0\n",
      "0      Harry\n",
      "1         42\n",
      "2  [1, 2, 3]\n",
      "<class 'pandas.core.frame.DataFrame'>\n",
      "RangeIndex: 3 entries, 0 to 2\n",
      "Data columns (total 1 columns):\n",
      " #   Column  Non-Null Count  Dtype \n",
      "---  ------  --------------  ----- \n",
      " 0   0       3 non-null      string\n",
      "dtypes: string(1)\n",
      "memory usage: 156.0 bytes\n"
     ]
    }
   ],
   "source": [
    "df=pd.DataFrame([\"Harry\", 42, [1,2,3]],dtype=\"string\")  # converting datatype from object to string\n",
    "print(df)\n",
    "df.info()"
   ]
  },
  {
   "cell_type": "code",
   "execution_count": 33,
   "id": "8b39639f-9a22-43fe-ae0e-a8f9cdd06c48",
   "metadata": {},
   "outputs": [
    {
     "name": "stdout",
     "output_type": "stream",
     "text": [
      "     Name  Marks Grade\n",
      "0   Harry     18     A\n",
      "1  Pottar     19     A\n",
      "2     Tom     12     B\n",
      "3   Jerry     11     B\n"
     ]
    }
   ],
   "source": [
    "d={\n",
    "    \"Name\" : [\"Harry\",\"Pottar\",\"Tom\",\"Jerry\"],\n",
    "    \"Marks\" : [18,19,12,11],\n",
    "    \"Grade\" : [\"A\",\"A\",\"B\",\"B\"]\n",
    "}\n",
    "df=pd.DataFrame(d)\n",
    "print(df)"
   ]
  },
  {
   "cell_type": "code",
   "execution_count": 40,
   "id": "f7f8cdbe-7dec-42ae-908b-fc6819428712",
   "metadata": {},
   "outputs": [
    {
     "name": "stdout",
     "output_type": "stream",
     "text": [
      "          A         B         C         D\n",
      "0 -1.956453  1.646283  0.789806 -0.346112\n",
      "1  0.270582  1.979201  0.569611  0.536514\n",
      "2  0.706061  0.619076 -0.506910 -0.882711\n",
      "3  0.196851  0.745231  0.608959  1.942625\n",
      "4 -0.754749  0.355445 -0.442085  0.228931\n",
      "5  0.581234 -0.739522  0.622883  1.085930\n",
      "6 -0.672170  0.545892  1.242017  0.976761\n",
      "7  0.658042 -0.681061 -0.483321 -0.128873\n",
      "8  1.806031  0.205102 -0.032451 -0.191149\n",
      "9  0.781460 -0.140486 -0.320260  2.944027\n"
     ]
    }
   ],
   "source": [
    "n=np.random.randn(10,4)\n",
    "df=pd.DataFrame(n, columns=[\"A\",\"B\",\"C\",\"D\"])\n",
    "print(df)\n",
    "df.to_csv(\"Dummy_DataFrame.csv\")"
   ]
  },
  {
   "cell_type": "code",
   "execution_count": null,
   "id": "556aebde-e06a-45b2-8ec2-32e4ed8e49a7",
   "metadata": {},
   "outputs": [],
   "source": []
  }
 ],
 "metadata": {
  "kernelspec": {
   "display_name": "Python 3 (ipykernel)",
   "language": "python",
   "name": "python3"
  },
  "language_info": {
   "codemirror_mode": {
    "name": "ipython",
    "version": 3
   },
   "file_extension": ".py",
   "mimetype": "text/x-python",
   "name": "python",
   "nbconvert_exporter": "python",
   "pygments_lexer": "ipython3",
   "version": "3.11.7"
  }
 },
 "nbformat": 4,
 "nbformat_minor": 5
}
