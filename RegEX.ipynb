{
 "cells": [
  {
   "cell_type": "code",
   "execution_count": 2,
   "id": "72f7a9a9-935b-40cb-b934-903c9bd8bcc0",
   "metadata": {},
   "outputs": [
    {
     "data": {
      "text/plain": [
       "['B', 'a', 'c']"
      ]
     },
     "execution_count": 2,
     "metadata": {},
     "output_type": "execute_result"
    }
   ],
   "source": [
    "import re\n",
    "pattern = re.compile('[a-hA-H]')\n",
    "str='Basic'\n",
    "re.findall(pattern,str)"
   ]
  },
  {
   "cell_type": "code",
   "execution_count": 8,
   "id": "0dfc7471-32b8-4842-9915-f97deee277f7",
   "metadata": {},
   "outputs": [
    {
     "data": {
      "text/plain": [
       "['a', 'i']"
      ]
     },
     "execution_count": 8,
     "metadata": {},
     "output_type": "execute_result"
    }
   ],
   "source": [
    "p=re.compile('[aeiouAEIOU]')\n",
    "str='Basic'\n",
    "re.findall(p,str)"
   ]
  },
  {
   "cell_type": "code",
   "execution_count": 14,
   "id": "1058dc44-12a5-45f6-810a-139f7f8f8b58",
   "metadata": {},
   "outputs": [
    {
     "data": {
      "text/plain": [
       "['B', 'a', 'i', '5', '4', '8']"
      ]
     },
     "execution_count": 14,
     "metadata": {},
     "output_type": "execute_result"
    }
   ],
   "source": [
    "pattern = re.compile('[^sc1]')  #-everything except s and c and 1\n",
    "str='Basic1548'\n",
    "re.findall(pattern,str)"
   ]
  },
  {
   "cell_type": "code",
   "execution_count": 13,
   "id": "e087faa0-d96a-4c3a-a1dd-2b25a9c40771",
   "metadata": {},
   "outputs": [
    {
     "data": {
      "text/plain": [
       "['B']"
      ]
     },
     "execution_count": 13,
     "metadata": {},
     "output_type": "execute_result"
    }
   ],
   "source": [
    "pattern = re.compile('^[B]')   #--mactes start point\n",
    "str='Basic'\n",
    "re.findall(pattern,str)"
   ]
  },
  {
   "cell_type": "code",
   "execution_count": 15,
   "id": "7eca0835-f777-4d2d-ab58-12d2dc012efb",
   "metadata": {},
   "outputs": [
    {
     "data": {
      "text/plain": [
       "['alice']"
      ]
     },
     "execution_count": 15,
     "metadata": {},
     "output_type": "execute_result"
    }
   ],
   "source": [
    "pattern = re.compile('^a...e$')   #--starts with a (^ sign) ends with e ($ sign) and containg 3 charcters in between (3 dots)\n",
    "str='alice'\n",
    "re.findall(pattern,str)"
   ]
  },
  {
   "cell_type": "code",
   "execution_count": 16,
   "id": "31da7582-afb7-47f0-96cd-b44e464d5280",
   "metadata": {},
   "outputs": [
    {
     "name": "stdout",
     "output_type": "stream",
     "text": [
      "Pattern found\n"
     ]
    }
   ],
   "source": [
    "pattern = re.compile('^a...e$')\n",
    "str='alice'\n",
    "result=re.findall(pattern,str)\n",
    "if result:\n",
    "    print(\"Pattern found\")\n",
    "else:\n",
    "    print(\"pattern found\")"
   ]
  },
  {
   "cell_type": "code",
   "execution_count": 19,
   "id": "26bd6251-9229-496e-b2da-303f3dcb80e1",
   "metadata": {},
   "outputs": [
    {
     "data": {
      "text/plain": [
       "['word']"
      ]
     },
     "execution_count": 19,
     "metadata": {},
     "output_type": "execute_result"
    }
   ],
   "source": [
    "pattern = re.compile('^[d-wD-W]..[sd]')\n",
    "str='word'\n",
    "re.findall(pattern,str)"
   ]
  },
  {
   "cell_type": "code",
   "execution_count": 23,
   "id": "9a3b34fe-09e7-455e-937d-a12613e73a8f",
   "metadata": {},
   "outputs": [
    {
     "data": {
      "text/plain": [
       "['maggie']"
      ]
     },
     "execution_count": 23,
     "metadata": {},
     "output_type": "execute_result"
    }
   ],
   "source": [
    "pattern = re.compile('m[a-r]*e$')   #[a-r]* means zero or any number of charcters between a-r\n",
    "str='maggie'\n",
    "re.findall(pattern,str)"
   ]
  },
  {
   "cell_type": "code",
   "execution_count": 28,
   "id": "5268b5e4-8f12-4bc1-a2ab-61fffd76630e",
   "metadata": {},
   "outputs": [
    {
     "data": {
      "text/plain": [
       "['made']"
      ]
     },
     "execution_count": 28,
     "metadata": {},
     "output_type": "execute_result"
    }
   ],
   "source": [
    "pattern = re.compile('m[a-r]+e$')   #[a-r]+ means al least one or any number of charcters between a-r\n",
    "str='made'\n",
    "re.findall(pattern,str)"
   ]
  },
  {
   "cell_type": "code",
   "execution_count": 32,
   "id": "d1ae91ac-6cd0-4ed1-bba4-d975da483666",
   "metadata": {},
   "outputs": [
    {
     "data": {
      "text/plain": [
       "['me']"
      ]
     },
     "execution_count": 32,
     "metadata": {},
     "output_type": "execute_result"
    }
   ],
   "source": [
    "pattern = re.compile('m[a-r]?e$')   #[a-r]? means zero or one number of charcters between a-r\n",
    "str='me'    #found------zero\n",
    "#str='mee'   #found------one\n",
    "#str='meee'  #not found-----more than 1\n",
    "re.findall(pattern,str)"
   ]
  },
  {
   "cell_type": "code",
   "execution_count": 41,
   "id": "d8c5ff7f-f6c3-43d7-92ef-ac046c1667b3",
   "metadata": {},
   "outputs": [
    {
     "data": {
      "text/plain": [
       "['scIT']"
      ]
     },
     "execution_count": 41,
     "metadata": {},
     "output_type": "execute_result"
    }
   ],
   "source": [
    "pattern = re.compile('b(com|scIT|ba)')\n",
    "str='bscIT'\n",
    "re.findall(pattern,str)"
   ]
  },
  {
   "cell_type": "code",
   "execution_count": 43,
   "id": "ce00200b-a166-4b3c-8af7-1796ee0f3795",
   "metadata": {},
   "outputs": [
    {
     "data": {
      "text/plain": [
       "['com']"
      ]
     },
     "execution_count": 43,
     "metadata": {},
     "output_type": "execute_result"
    }
   ],
   "source": [
    "pattern = re.compile(r'b.(com|scIT|ba)')  # r----raw string\n",
    "str='b.com'\n",
    "re.findall(pattern,str)"
   ]
  },
  {
   "cell_type": "code",
   "execution_count": 5,
   "id": "a29e9ed9-50dc-470f-b6a7-549549d4257d",
   "metadata": {},
   "outputs": [
    {
     "data": {
      "text/plain": [
       "['com']"
      ]
     },
     "execution_count": 5,
     "metadata": {},
     "output_type": "execute_result"
    }
   ],
   "source": [
    "pattern = re.compile('b\\.(com|scIT|ba)')  # r----raw string----------\\. means the . is a character\n",
    "str='b.com'\n",
    "re.findall(pattern,str)"
   ]
  },
  {
   "cell_type": "code",
   "execution_count": 10,
   "id": "3b24d1c9-6e09-4466-9c3c-8056a5273ea4",
   "metadata": {},
   "outputs": [
    {
     "data": {
      "text/plain": [
       "['Hello', 'Good', 'Morning', 'Have', 'a', 'great', 'day']"
      ]
     },
     "execution_count": 10,
     "metadata": {},
     "output_type": "execute_result"
    }
   ],
   "source": [
    "pattern = re.compile(r'\\w+') #---------\\w single elements-----\\w+ alpha numeric words separated by space or non-alphanumeric character\n",
    "str='Hello ! Good Morning ! Have a great day'\n",
    "re.findall(pattern,str)"
   ]
  },
  {
   "cell_type": "code",
   "execution_count": 11,
   "id": "c709445d-94cb-4b5d-a837-b5be4ae12f19",
   "metadata": {},
   "outputs": [
    {
     "data": {
      "text/plain": [
       "['566', '458', '949', '340']"
      ]
     },
     "execution_count": 11,
     "metadata": {},
     "output_type": "execute_result"
    }
   ],
   "source": [
    "pattern = re.compile(r\"\\d{3}\")  #'\\d'---single digits -----'\\d{3}'----grop of 3 continuous digit\n",
    "str='23d5663s458efh94'\n",
    "re.findall(pattern,str)"
   ]
  },
  {
   "cell_type": "code",
   "execution_count": 30,
   "id": "8bb15883-1da8-46e4-8154-8124d672a98e",
   "metadata": {},
   "outputs": [
    {
     "name": "stdout",
     "output_type": "stream",
     "text": [
      "phone number :  ['7208573129']\n"
     ]
    }
   ],
   "source": [
    "pattern = re.compile(r\"[6-9]{1}\\d{9}\")  # --- first digit should be any number betwwen 6-9 which will be followed by any 9 digits\n",
    "str='7208573129'\n",
    "if len(str)==10:\n",
    "    result=re.findall(pattern,str)\n",
    "    print(\"phone number : \",result)\n",
    "else:\n",
    "    print(\"invalid number\")"
   ]
  },
  {
   "cell_type": "code",
   "execution_count": 33,
   "id": "7e58bf80-848c-4447-adc0-e74e7a0939f0",
   "metadata": {},
   "outputs": [
    {
     "name": "stdout",
     "output_type": "stream",
     "text": [
      "world\n"
     ]
    }
   ],
   "source": [
    "str='Hello world ! This world is beautiful place to live.'\n",
    "re.search('world',str)\n",
    "match=re.search('world',str)\n",
    "print(match.group())"
   ]
  },
  {
   "cell_type": "code",
   "execution_count": 37,
   "id": "4f24b31b-d3a8-42fa-ac41-bef456fd26ef",
   "metadata": {},
   "outputs": [
    {
     "data": {
      "text/plain": [
       "['One', 'Two', '21', 'a?ad', '121']"
      ]
     },
     "execution_count": 37,
     "metadata": {},
     "output_type": "execute_result"
    }
   ],
   "source": [
    "str='One,Two,21:a?ad,121'\n",
    "pattern=r\"[,:]\"\n",
    "re.split(pattern,str)"
   ]
  },
  {
   "cell_type": "code",
   "execution_count": null,
   "id": "b1cc7dc2-3cf6-4a8f-bdb3-1e4ac6538619",
   "metadata": {},
   "outputs": [],
   "source": []
  }
 ],
 "metadata": {
  "kernelspec": {
   "display_name": "Python 3 (ipykernel)",
   "language": "python",
   "name": "python3"
  },
  "language_info": {
   "codemirror_mode": {
    "name": "ipython",
    "version": 3
   },
   "file_extension": ".py",
   "mimetype": "text/x-python",
   "name": "python",
   "nbconvert_exporter": "python",
   "pygments_lexer": "ipython3",
   "version": "3.11.7"
  }
 },
 "nbformat": 4,
 "nbformat_minor": 5
}
