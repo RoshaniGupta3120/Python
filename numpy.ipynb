{
 "cells": [
  {
   "cell_type": "code",
   "execution_count": 3,
   "id": "da58306d-cb1d-4c99-93fd-67b07f2ce643",
   "metadata": {},
   "outputs": [],
   "source": [
    "#pip install numpy"
   ]
  },
  {
   "cell_type": "code",
   "execution_count": 1,
   "id": "7bc1c977-8810-40fe-8b43-e3e5c849f775",
   "metadata": {},
   "outputs": [],
   "source": [
    "import numpy as np"
   ]
  },
  {
   "cell_type": "markdown",
   "id": "b7f60bee-516a-42b7-9a24-fb8fbb793fe4",
   "metadata": {},
   "source": [
    "# numpy\n",
    "numpy i.e., numarical python is a powerfull python library used for numerical computation it provides support for creating and manupulating large multidimensional arrays and matrices as well as has a wide collection of mathematical functions to operate on these arrays efficiently \n",
    "# Array\n",
    "arrays are a collection of elements that are stored in a continuous block of memory, It can hold multiple values where all the values are of same datatype and allows efficient storage and computation"
   ]
  },
  {
   "cell_type": "markdown",
   "id": "69aa3ebd-b470-4749-99b4-16d605417cf5",
   "metadata": {},
   "source": [
    "# Advantages of numpy\n",
    "it is implemented in C language\n",
    "making operations\n",
    "highly optimize\n",
    "it is faster than python list\n",
    "it can perform advanced operations like slicing, reshaping and other mathematical computation like linear algebra, fourier transform, etc.\n",
    "It consumes less memory as compared to python list\n",
    "it integrates well with other libraries such as pandas, matplotlib, etc."
   ]
  },
  {
   "cell_type": "code",
   "execution_count": 11,
   "id": "2c04441b-3057-4645-9d3f-2235ea01c4e0",
   "metadata": {},
   "outputs": [
    {
     "name": "stdout",
     "output_type": "stream",
     "text": [
      "<class 'list'>\n",
      "[1, 2, 3, 4, 1, 2, 3, 4, 1, 2, 3, 4]\n"
     ]
    },
    {
     "data": {
      "text/plain": [
       "[3, 6, 9, 12]"
      ]
     },
     "execution_count": 11,
     "metadata": {},
     "output_type": "execute_result"
    }
   ],
   "source": [
    "l=[1,2,3,4]\n",
    "print(type(l))\n",
    "print(l*3) #repeat the elements of list l for 3 times----------concatenation\n",
    "\n",
    "m=[i*3 for i in l]\n",
    "m"
   ]
  },
  {
   "cell_type": "code",
   "execution_count": 12,
   "id": "71ec3a20-802f-45a1-a9e6-4f1758043079",
   "metadata": {},
   "outputs": [
    {
     "name": "stdout",
     "output_type": "stream",
     "text": [
      "<class 'numpy.ndarray'>\n",
      "[ 3  6  9 12]\n"
     ]
    }
   ],
   "source": [
    "n=np.array(l)  #array-----------\n",
    "print(type(n))\n",
    "print(n*3)"
   ]
  },
  {
   "cell_type": "code",
   "execution_count": 15,
   "id": "c19ac34d-64b8-43de-bfc6-285eff69a9f0",
   "metadata": {},
   "outputs": [
    {
     "name": "stdout",
     "output_type": "stream",
     "text": [
      "['A' 'B' 'C']\n",
      "<class 'numpy.ndarray'>\n"
     ]
    }
   ],
   "source": [
    "l=[\"A\",\"B\",\"C\"]\n",
    "n=np.array(l)  #array-----------\n",
    "print(n)\n",
    "print(type(n))\n",
    "#print(n*3) #error can't perform multiplication or any mathematical operation with string values--numpy array works on numbers and not on mixed datatypes"
   ]
  },
  {
   "cell_type": "code",
   "execution_count": 2,
   "id": "d7e95d66-e0e5-4fb7-a55f-72f008c93e97",
   "metadata": {},
   "outputs": [
    {
     "name": "stdout",
     "output_type": "stream",
     "text": [
      "[[1 2 3]\n",
      " [4 5 6]]\n",
      "<class 'numpy.ndarray'>\n",
      "Shape  (2, 3)\n",
      "Dimension  2\n"
     ]
    }
   ],
   "source": [
    "n=np.array([[1,2,3],[4,5,6]])\n",
    "print(n)\n",
    "print(type(n))\n",
    "print(\"Shape \", n.shape)\n",
    "print(\"Dimension \",n.ndim)"
   ]
  },
  {
   "cell_type": "markdown",
   "id": "cc8ee357-8fe1-48d9-b145-3a28d4a8d90e",
   "metadata": {},
   "source": [
    "### Broadcasting"
   ]
  },
  {
   "cell_type": "code",
   "execution_count": 4,
   "id": "59be0db0-6d87-453f-a378-4cd773f1d1f7",
   "metadata": {},
   "outputs": [
    {
     "name": "stdout",
     "output_type": "stream",
     "text": [
      "[ 3  6  9 12 15]\n"
     ]
    }
   ],
   "source": [
    "n=np.array([1,2,3,4,5])\n",
    "print(n*3) #array access all the elements and perform operation without loops"
   ]
  },
  {
   "cell_type": "code",
   "execution_count": 6,
   "id": "ae716f2c-6ff9-4652-99c4-ce1ba22e198c",
   "metadata": {},
   "outputs": [
    {
     "name": "stdout",
     "output_type": "stream",
     "text": [
      "[[11 22 33]\n",
      " [14 25 36]]\n"
     ]
    }
   ],
   "source": [
    "n=np.array([[1,2,3],[4,5,6]])\n",
    "m=np.array([10,20,30])\n",
    "print(n+m)"
   ]
  },
  {
   "cell_type": "code",
   "execution_count": 7,
   "id": "25162b8b-42c5-4e45-81b8-dcea9744aec1",
   "metadata": {},
   "outputs": [
    {
     "name": "stdout",
     "output_type": "stream",
     "text": [
      "[[0. 0. 0.]\n",
      " [0. 0. 0.]]\n"
     ]
    }
   ],
   "source": [
    "n=np.zeros((2,3))  #array of zeros\n",
    "print(n)"
   ]
  },
  {
   "cell_type": "code",
   "execution_count": 8,
   "id": "96dd69b3-b1b7-41fa-b150-be2c60c08ea5",
   "metadata": {},
   "outputs": [
    {
     "name": "stdout",
     "output_type": "stream",
     "text": [
      "[[1. 1. 1.]\n",
      " [1. 1. 1.]]\n"
     ]
    }
   ],
   "source": [
    "n=np.ones((2,3))  #array of ones\n",
    "print(n)"
   ]
  },
  {
   "cell_type": "markdown",
   "id": "64207f75-ce26-4874-a16d-bad1c1b0078c",
   "metadata": {},
   "source": [
    "### random number"
   ]
  },
  {
   "cell_type": "code",
   "execution_count": 17,
   "id": "1062f3cf-38aa-4048-81c9-e702695f8967",
   "metadata": {},
   "outputs": [
    {
     "data": {
      "text/plain": [
       "array([[0.52326189, 0.04556614, 0.40502251],\n",
       "       [0.24749069, 0.93909562, 0.31914237],\n",
       "       [0.90138979, 0.51644767, 0.96409978]])"
      ]
     },
     "execution_count": 17,
     "metadata": {},
     "output_type": "execute_result"
    }
   ],
   "source": [
    "n=np.random.rand()  # random float number between 0-1\n",
    "#n\n",
    "n=np.random.rand(3 ,3)  # 3,3 array of random float number between 0-1\n",
    "n"
   ]
  },
  {
   "cell_type": "code",
   "execution_count": 21,
   "id": "bb21b806-6d33-43c1-a519-3e95bb2eb44b",
   "metadata": {},
   "outputs": [
    {
     "data": {
      "text/plain": [
       "6"
      ]
     },
     "execution_count": 21,
     "metadata": {},
     "output_type": "execute_result"
    }
   ],
   "source": [
    "n=np.random.randint(1,10)  # random integer between 1-10\n",
    "n"
   ]
  },
  {
   "cell_type": "code",
   "execution_count": 24,
   "id": "d7e1663b-750f-4913-94a5-8522886e2431",
   "metadata": {},
   "outputs": [
    {
     "data": {
      "text/plain": [
       "array([[6, 6],\n",
       "       [9, 5],\n",
       "       [3, 1]])"
      ]
     },
     "execution_count": 24,
     "metadata": {},
     "output_type": "execute_result"
    }
   ],
   "source": [
    "n=np.random.randint(1,10,size=(3,2)) # 2,3 array of any random integer between 1-10\n",
    "n"
   ]
  },
  {
   "cell_type": "code",
   "execution_count": 27,
   "id": "80ee8cd2-b39b-4a25-b6d9-bccbf754aa49",
   "metadata": {},
   "outputs": [
    {
     "name": "stdout",
     "output_type": "stream",
     "text": [
      "Shape of n  (2, 3)\n",
      "[[1 2 3]\n",
      " [4 5 6]]\n",
      "Shape of m  (3, 2)\n",
      "[[1 4]\n",
      " [2 5]\n",
      " [3 6]]\n"
     ]
    }
   ],
   "source": [
    "n=np.array([[1,2,3],[4,5,6]])\n",
    "print(\"Shape of n \", n.shape)\n",
    "print(n)\n",
    "m=n.T                         #-----------Transpose\n",
    "print(\"Shape of m \", m.shape)\n",
    "print(m)"
   ]
  },
  {
   "cell_type": "markdown",
   "id": "62c5d906-3b2c-4e8e-9ba6-e8b85de780bc",
   "metadata": {},
   "source": [
    "### reshape(row,col)"
   ]
  },
  {
   "cell_type": "code",
   "execution_count": 43,
   "id": "7e41db4c-051e-4d57-aa4f-054aeda39016",
   "metadata": {},
   "outputs": [
    {
     "name": "stdout",
     "output_type": "stream",
     "text": [
      "[[1]\n",
      " [2]\n",
      " [3]\n",
      " [4]\n",
      " [5]\n",
      " [6]]\n",
      "---------------------\n",
      "[[1 2]\n",
      " [3 4]\n",
      " [5 6]]\n"
     ]
    }
   ],
   "source": [
    "n=np.array([[1,2,3],[4,5,6]])\n",
    "print(n.reshape(6,1))\n",
    "print(\"---------------------\")\n",
    "print(n.reshape(3,2))"
   ]
  },
  {
   "cell_type": "markdown",
   "id": "d4703146-c260-41fb-a8b7-edfa48397220",
   "metadata": {},
   "source": [
    "### concatenate and stack"
   ]
  },
  {
   "cell_type": "code",
   "execution_count": 38,
   "id": "7509f81d-c4b8-4eb0-a6df-1f72a8faffbd",
   "metadata": {},
   "outputs": [
    {
     "name": "stdout",
     "output_type": "stream",
     "text": [
      "[[1 2 3]\n",
      " [4 5 6]\n",
      " [7 8 9]\n",
      " [1 2 3]]\n",
      "(4, 3)\n"
     ]
    }
   ],
   "source": [
    "n=np.array([1,2,3,4,5,6]).reshape(2,3)  #method re-chaining\n",
    "m=np.array([7,8,9,1,2,3]).reshape(2,3)\n",
    "a=np.concatenate((n,m),axis=0)        #----axis=0//vertically append------creating stack\n",
    "print(a)\n",
    "print(a.shape)"
   ]
  },
  {
   "cell_type": "code",
   "execution_count": 39,
   "id": "23a1cdec-e1a0-43e9-a200-9ff3d81bc280",
   "metadata": {},
   "outputs": [
    {
     "name": "stdout",
     "output_type": "stream",
     "text": [
      "[[1 2 3 7 8 9]\n",
      " [4 5 6 1 2 3]]\n",
      "(2, 6)\n"
     ]
    }
   ],
   "source": [
    "a=np.concatenate((n,m),axis=1)  #----axis=1 //Horizontally append----side by side \n",
    "print(a)\n",
    "print(a.shape)"
   ]
  },
  {
   "cell_type": "code",
   "execution_count": 42,
   "id": "d04f77f2-4709-4f7e-ba09-85ffc2588908",
   "metadata": {},
   "outputs": [
    {
     "name": "stdout",
     "output_type": "stream",
     "text": [
      "[[1 2 3]\n",
      " [4 5 6]\n",
      " [7 8 9]\n",
      " [1 2 3]]\n",
      "[[1 2 3 7 8 9]\n",
      " [4 5 6 1 2 3]]\n"
     ]
    }
   ],
   "source": [
    "n=np.array([1,2,3,4,5,6]).reshape(2,3)\n",
    "m=np.array([7,8,9,1,2,3]).reshape(2,3)\n",
    "a=np.vstack((n,m))        #-----------------stacking vertically\n",
    "print(a)\n",
    "b=np.hstack((n,m))        #-----------------stacking Horizontally\n",
    "print(b)"
   ]
  },
  {
   "cell_type": "markdown",
   "id": "3fe03fac-d0ea-43d4-b299-9ddb6fca5388",
   "metadata": {},
   "source": [
    "### Typecasting of array"
   ]
  },
  {
   "cell_type": "code",
   "execution_count": 44,
   "id": "982de0d6-ea9c-43c0-8729-188008c4636b",
   "metadata": {},
   "outputs": [
    {
     "data": {
      "text/plain": [
       "array([[1., 2., 3.],\n",
       "       [4., 5., 6.]])"
      ]
     },
     "execution_count": 44,
     "metadata": {},
     "output_type": "execute_result"
    }
   ],
   "source": [
    "n=np.array([1,2,3,4,5,6],dtype=\"float\").reshape(2,3)\n",
    "n"
   ]
  },
  {
   "cell_type": "markdown",
   "id": "011a2969-61e2-4be2-aa85-05fc65e847f7",
   "metadata": {},
   "source": [
    "### methods or function"
   ]
  },
  {
   "cell_type": "code",
   "execution_count": 46,
   "id": "927ec0a5-d8a1-45ad-b0a2-063bc8f0dccb",
   "metadata": {},
   "outputs": [
    {
     "name": "stdout",
     "output_type": "stream",
     "text": [
      "[1 2 3]\n",
      "[1 2 3 4 5 6 3]\n",
      "[ 1 10 20 34  2  3  4  5  6  3]\n",
      "[ 1 10 20  4  5  6  3]\n"
     ]
    }
   ],
   "source": [
    "n=np.array([1,2,3])\n",
    "print(n)\n",
    "a=np.append(n,[4,5,6,3])     #-----append array into array n\n",
    "print(a)\n",
    "i=np.insert(a,1,[10,20,34])  #-----insert array at the gven index\n",
    "print(i)\n",
    "d=np.delete(i,[3,4,5])       #-----delete elements from the array at the gven index\n",
    "print(d)"
   ]
  },
  {
   "cell_type": "code",
   "execution_count": 49,
   "id": "baa76abd-1a7e-4cc7-8e62-0d0183d516ec",
   "metadata": {},
   "outputs": [
    {
     "name": "stdout",
     "output_type": "stream",
     "text": [
      "[[ 1  3]\n",
      " [ 5  7]\n",
      " [ 9 11]\n",
      " [13 15]\n",
      " [17 19]]\n"
     ]
    }
   ],
   "source": [
    "n=np.arange(1,20,2).reshape(5,2)  #aramge-- sane as range function\n",
    "print(n)"
   ]
  },
  {
   "cell_type": "markdown",
   "id": "6631af1d-eaf3-4096-9cd6-3d08a1707fd0",
   "metadata": {},
   "source": [
    "### Indexing and Slicing"
   ]
  },
  {
   "cell_type": "code",
   "execution_count": 54,
   "id": "6ed465b3-2021-48ff-a799-bf027160a084",
   "metadata": {},
   "outputs": [
    {
     "name": "stdout",
     "output_type": "stream",
     "text": [
      "[[20 21]\n",
      " [22 23]\n",
      " [24 25]\n",
      " [26 27]\n",
      " [28 29]]\n",
      "27\n",
      "25\n"
     ]
    }
   ],
   "source": [
    "n=np.arange(20,30).reshape(5,2)  #aramge-- sane as range function\n",
    "print(n)\n",
    "print(n[3,1])\n",
    "print(n[2][1])   # Indexing--------------"
   ]
  },
  {
   "cell_type": "code",
   "execution_count": 59,
   "id": "c183b48b-1948-4b7e-88ff-38728a4bc675",
   "metadata": {},
   "outputs": [
    {
     "name": "stdout",
     "output_type": "stream",
     "text": [
      "[[ 1  2  3  4  5  6]\n",
      " [ 7  8  9 10 11 12]\n",
      " [13 14 15 16 17 18]\n",
      " [19 20 21 22 23 24]\n",
      " [25 26 27 28 29 30]]\n",
      "[[ 7  8  9]\n",
      " [13 14 15]\n",
      " [19 20 21]]\n"
     ]
    }
   ],
   "source": [
    "n=np.arange(1,31).reshape(5,6)  #aramge-- sane as range function\n",
    "print(n)\n",
    "print(n[1:4,0:3])  #=slicing"
   ]
  },
  {
   "cell_type": "markdown",
   "id": "db39ba95-eb9b-4cb7-9dae-80ffab995a90",
   "metadata": {},
   "source": [
    "### ----------"
   ]
  },
  {
   "cell_type": "code",
   "execution_count": 66,
   "id": "63c21f4e-cb4c-4c73-926b-043b99a4c5c1",
   "metadata": {},
   "outputs": [
    {
     "name": "stdout",
     "output_type": "stream",
     "text": [
      "[1 2 3 4 5 6]\n",
      "21 3.5 1.707825127659933 2.9166666666666665 720 6 1 [ 1  3  6 10 15 21]\n"
     ]
    }
   ],
   "source": [
    "b=np.arange(1,7)\n",
    "print(b)\n",
    "print(b.sum(),b.mean(),b.std(),b.var(),b.prod(),b.max(),b.min(),b.cumsum())"
   ]
  },
  {
   "cell_type": "code",
   "execution_count": null,
   "id": "a42f4780-549a-443a-8c62-da68a7e37c04",
   "metadata": {},
   "outputs": [],
   "source": []
  }
 ],
 "metadata": {
  "kernelspec": {
   "display_name": "Python 3 (ipykernel)",
   "language": "python",
   "name": "python3"
  },
  "language_info": {
   "codemirror_mode": {
    "name": "ipython",
    "version": 3
   },
   "file_extension": ".py",
   "mimetype": "text/x-python",
   "name": "python",
   "nbconvert_exporter": "python",
   "pygments_lexer": "ipython3",
   "version": "3.11.7"
  }
 },
 "nbformat": 4,
 "nbformat_minor": 5
}
